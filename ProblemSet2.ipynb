{
  "nbformat": 4,
  "nbformat_minor": 0,
  "metadata": {
    "colab": {
      "name": "ProblemSet2.ipynb",
      "provenance": [],
      "authorship_tag": "ABX9TyNQ2IXOJLRUT4v0PDgJFcQJ",
      "include_colab_link": true
    },
    "kernelspec": {
      "name": "python3",
      "display_name": "Python 3"
    },
    "language_info": {
      "name": "python"
    }
  },
  "cells": [
    {
      "cell_type": "markdown",
      "metadata": {
        "id": "view-in-github",
        "colab_type": "text"
      },
      "source": [
        "<a href=\"https://colab.research.google.com/github/jorgeerrz/compneuro_course/blob/main/ProblemSet2.ipynb\" target=\"_parent\"><img src=\"https://colab.research.google.com/assets/colab-badge.svg\" alt=\"Open In Colab\"/></a>"
      ]
    },
    {
      "cell_type": "markdown",
      "metadata": {
        "id": "c6LbF_6LY24G"
      },
      "source": [
        "# Computational Neuroscience\n",
        "## Worksheet 2: Perceptron\n",
        "Name 1:\n",
        "\n",
        "NIA:\n",
        "\n",
        "Name 2:\n",
        "\n",
        "NIA:"
      ]
    },
    {
      "cell_type": "code",
      "metadata": {
        "id": "4rSC5IAPZYG0"
      },
      "source": [
        "import numpy as np\n",
        "import matplotlib.pyplot as plt"
      ],
      "execution_count": null,
      "outputs": []
    },
    {
      "cell_type": "markdown",
      "metadata": {
        "id": "vQU33oHDZcQd"
      },
      "source": [
        "## Step 1\n",
        "- Generate two clusters of points in 2D from a Gaussian centered at (1,1) and (4,4) respectively. Each Gaussian is circularly symmetric with unit variance. Use 50 points per cluster. Display each set using a different color. \n",
        "\n",
        "- Display these two clusters for five realizations. \n",
        "\n",
        "Please use a for loop and subplots to show the five realizations, not five copy-pasted blocks of code.\n"
      ]
    },
    {
      "cell_type": "code",
      "metadata": {
        "id": "Oy0Llhw1aEwP"
      },
      "source": [
        "#Your code here"
      ],
      "execution_count": null,
      "outputs": []
    },
    {
      "cell_type": "markdown",
      "metadata": {
        "id": "dt4Zl1ZVZmxg"
      },
      "source": [
        "## Step 2\n",
        "\n",
        "Use a perceptron learning rule to classify the two classes above. Use a small learning rate and enough number of iterations. \n",
        "- Start the algorithm from a set of parameters, corresponding to a random line in 2D. Display this initial boundary in green. \n",
        "- Display the boundaries that are obtained in the first and last iterations of the algorithms (use orange and black colors, respectively). Also display some of the intermediate boundaries in yellow.\n",
        "\n",
        "Does the perceptron classify correctly the two classes? Find one realization where the answer is positive and another where the answer is negative. Explain the results for the two cases. What is the general condition in the training data that the perceptron requires for successful learning?"
      ]
    },
    {
      "cell_type": "code",
      "metadata": {
        "id": "fL6qf-CJaKbI"
      },
      "source": [
        "#Initial parameters\n",
        "#For reproducibility, use a fixed random seed (change 2021 for any integer number that you like)\n",
        "np.random.seed(2021)"
      ],
      "execution_count": null,
      "outputs": []
    }
  ]
}