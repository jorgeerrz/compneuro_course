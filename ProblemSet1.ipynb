{
  "nbformat": 4,
  "nbformat_minor": 0,
  "metadata": {
    "colab": {
      "name": "ProblemSet1.ipynb",
      "provenance": [],
      "authorship_tag": "ABX9TyPg5qVPYcn+LhzfM0f+fBFQ",
      "include_colab_link": true
    },
    "kernelspec": {
      "name": "python3",
      "display_name": "Python 3"
    },
    "language_info": {
      "name": "python"
    }
  },
  "cells": [
    {
      "cell_type": "markdown",
      "metadata": {
        "id": "view-in-github",
        "colab_type": "text"
      },
      "source": [
        "<a href=\"https://colab.research.google.com/github/jorgeerrz/compneuro_course/blob/main/ProblemSet1.ipynb\" target=\"_parent\"><img src=\"https://colab.research.google.com/assets/colab-badge.svg\" alt=\"Open In Colab\"/></a>"
      ]
    },
    {
      "cell_type": "markdown",
      "metadata": {
        "id": "mtblDcKdSKIK"
      },
      "source": [
        "# Computational Neuroscience\n",
        "## Worksheet 1: Hopfield Networks\n",
        "Name 1:\n",
        "\n",
        "NIA:\n",
        "\n",
        "Name 2:\n",
        "\n",
        "NIA:"
      ]
    },
    {
      "cell_type": "code",
      "metadata": {
        "id": "Kk3LnFu8SQU6"
      },
      "source": [
        "import numpy as np\n",
        "import matplotlib.pyplot as plt\n",
        "import scipy.io as sio"
      ],
      "execution_count": 1,
      "outputs": []
    },
    {
      "cell_type": "markdown",
      "metadata": {
        "id": "_R9rWj-LSfEq"
      },
      "source": [
        "## Step 1\n",
        "Load matrix ‘patterns_ej1.m’. To do so, click on the folder icon on the left, and upload the file (this will be available only while your session in Colab is active).\n",
        "\n",
        "It is a 100x10 matrix, where each column represents one of the M=10 random memory patterns that have been generated (each memory pattern consists of +1 and -1’s).  Display the first pattern on a grid of 10x10 in black and white.\n",
        "Hints: you can use np.reshape() function to transform the first pattern into a matrix. PLEASE use the 'F' option of reshape so it reads the pattern the same way Matlab does it. Use the funcion plt.imshow() to display this pattern.\n"
      ]
    },
    {
      "cell_type": "code",
      "metadata": {
        "id": "1Ccw7VtaSk3O"
      },
      "source": [
        "wholefile = sio.loadmat('patterns_ej1.mat')\n",
        "patterns = wholefile['patterns']\n",
        "N,M = np.shape(patterns)\n",
        "#Complete the code\n",
        "first_pattern = #your code here..."
      ],
      "execution_count": null,
      "outputs": []
    },
    {
      "cell_type": "markdown",
      "metadata": {
        "id": "21R6zNKFTt0B"
      },
      "source": [
        "## Step 2\n",
        "Use these memory patterns to generate the connectivity matrix W of the network using Hebb’s rule. Represent this connectivity matrix on a plot in black and white. Is the connectivity symmetric? Explain. "
      ]
    },
    {
      "cell_type": "code",
      "metadata": {
        "id": "syNEnwkaTzyO"
      },
      "source": [
        "#Complete the code\n",
        "W = #your code here..."
      ],
      "execution_count": null,
      "outputs": []
    },
    {
      "cell_type": "markdown",
      "metadata": {
        "id": "Gy6WNzgAT5xE"
      },
      "source": [
        "## Step 3 & 4\n",
        "Iterate the dynamics of a Hopfield network with the connectivity matrix found above (use asynchronous cycling updating, that is, updated first neuron 1, then 2, then 3…). The number of complete cycles should be large enough (use 10 complete cycles updating each neuron in order). The initial condition of the state of the network should be a random vector of +1 and -1s. Finally, show that the energy does not increase by plotting how the energy evolves over time. Does the network converge to an attractor? Why?\n",
        "\n",
        "Define a vector of overlaps, where each entry is the inner (scalar) product of the activity state s and the pattern number k. (normalize the overlap such that the maximum value is one). The vector of overlaps will be of size M. Plot the temporal evolution of the M overlaps. Does the network state over the long run have a large overlap with one of the patterns? What happens with the overlap with the other patterns? Explain if none of the overlaps is zero. To what attractor has the network converged?"
      ]
    },
    {
      "cell_type": "code",
      "metadata": {
        "id": "dDjws1keT_ym"
      },
      "source": [
        "#Initial condition\n",
        "state = ...\n",
        "n_cycles = ...\n",
        "energy = ...\n",
        "overlaps = ..."
      ],
      "execution_count": null,
      "outputs": []
    },
    {
      "cell_type": "markdown",
      "metadata": {
        "id": "u1bN4GCRUlIg"
      },
      "source": [
        "## Step 5\n",
        "Now use pattern number 1 as an initial condition of you network. Is this pattern stable, why? \n",
        "How many bits in this pattern can on average be perturbed, and yet the network returns the correct pattern? (This requires flipping bits randomly with increasing probability p and study when the activity converges to the initial pattern as a function of p and averaging your result over 100 random realizations of the flips; you can use values p = 0.1, 0.2, …, 0.9)\n",
        "\n"
      ]
    },
    {
      "cell_type": "code",
      "metadata": {
        "id": "oo0yse26VBxE"
      },
      "source": [
        "state = #Your code here..."
      ],
      "execution_count": 2,
      "outputs": []
    },
    {
      "cell_type": "markdown",
      "metadata": {
        "id": "nCIpqIhiVIpU"
      },
      "source": [
        "## Step 6\n",
        "Now we will use a Hopfield network where the total number of memory patterns that we want to store is M=50. Load matrix ‘patterns2.m’ and check that it is a 100x50 matrix. If we use memory pattern number 1 as initial condition of our network, is it stable? Why?\n"
      ]
    },
    {
      "cell_type": "code",
      "metadata": {
        "id": "e0oNMSM2VOrF"
      },
      "source": [
        "bigwholefile = sio.loadmat('patterns2.mat')\n",
        "big_patterns = bigwholefile['patterns2']"
      ],
      "execution_count": null,
      "outputs": []
    },
    {
      "cell_type": "markdown",
      "metadata": {
        "id": "3TC1Ux6DVk5W"
      },
      "source": [
        "## Step 7\n",
        "Now we are going to study the capacity of the network as a function of the number of memory patterns that we want to store. \n",
        "- Take N=100, and M (the number of random memory patterns) taking values 5, 10, 15, 25, 50, 75. \n",
        "- For each M generate 100 networks so that you can report average quantities (because memory patterns are random, we want to know the properties that are consistent across realizations of patterns and associated networks, not just one particular realization or network).\n",
        "- Now, take the input of your network to be pattern number 1, and compute the number of networks under which the input pattern is stable. \n",
        "- Plot these number as a function of M. How do you interpret this plot?\n"
      ]
    },
    {
      "cell_type": "code",
      "metadata": {
        "id": "1whxjSJVV2DH"
      },
      "source": [
        "N_neurons = 100\n",
        "n_repetitions = 100\n",
        "M_values = [5,10,15,25,50,75]\n",
        "#Your code here..."
      ],
      "execution_count": null,
      "outputs": []
    },
    {
      "cell_type": "markdown",
      "metadata": {
        "id": "HxMOhsHUWDro"
      },
      "source": [
        "## Step 8\n",
        "Can a network recall your own picture? \n",
        "Create a Hopfield network of 10000 neurons. You can first generate M=50 random binary patterns where +1 and -1 have the same probability. However, the first pattern is going to be replaced by a binarization of an image that you like (your photo ID, for example; use the code provided to convert your jpg image into a binary pattern of size 10000, that is 100x100 pixels image). \n",
        "Let us study whether your network can recall your image from a corrupted version of it. For that, corrupt your image in the way you like (remove a large part of it, or flip a large fraction of bits, etc.). Display the corrupted image and use it as an initial condition for you network.\n",
        "\n",
        "Does the network recall your image?\n",
        "Illustrate this by showing how the activity of the network evolves over time, and show 3-5 activity patterns displayed in a 100x100 grid to illustrate how the state of the network evolves over time. \n",
        "Plots overlaps of the activity pattern with each of the memory patterns, and display the energy as a function of time. Discuss.\n"
      ]
    },
    {
      "cell_type": "code",
      "metadata": {
        "id": "ddYrUI-TWNxg"
      },
      "source": [
        "import cv2"
      ],
      "execution_count": null,
      "outputs": []
    },
    {
      "cell_type": "code",
      "metadata": {
        "id": "mDG5jc6jWZK3"
      },
      "source": [
        "#Upload your picture by going to the 'files' sections in Colab \n",
        "#by clicking on the folder on the left and rename the file\n",
        "img = cv2.imread('your_photo_here.jpg')\n",
        "grayImage = cv2.cvtColor(img, cv2.COLOR_BGR2GRAY)\n",
        "#Change this threshold value depending on your image\n",
        "threshold = 120\n",
        "(thresh, blackAndWhiteImage) = cv2.threshold(grayImage, threshold, 1, cv2.THRESH_BINARY)\n",
        "#Your 100x100 image will be in the variable your_picture, you can use plt.imshow to see it\n",
        "your_picture = np.int8(cv2.resize(blackAndWhiteImage, dsize=(100, 100)))*2 - 1"
      ],
      "execution_count": null,
      "outputs": []
    },
    {
      "cell_type": "code",
      "metadata": {
        "id": "g0jHXpHPWihU"
      },
      "source": [
        "#Flatten your picture\n",
        "pattern1 = np.reshape(res,10000)"
      ],
      "execution_count": null,
      "outputs": []
    },
    {
      "cell_type": "code",
      "metadata": {
        "id": "03-QcK0zXMSN"
      },
      "source": [
        "#Your code here"
      ],
      "execution_count": null,
      "outputs": []
    }
  ]
}